{
  "nbformat": 4,
  "nbformat_minor": 0,
  "metadata": {
    "colab": {
      "provenance": [],
      "gpuType": "T4",
      "include_colab_link": true
    },
    "kernelspec": {
      "name": "python3",
      "display_name": "Python 3"
    },
    "language_info": {
      "name": "python"
    },
    "accelerator": "GPU"
  },
  "cells": [
    {
      "cell_type": "markdown",
      "metadata": {
        "id": "view-in-github",
        "colab_type": "text"
      },
      "source": [
        "<a href=\"https://colab.research.google.com/github/gusanitor8/matrix-multiplication-cuda/blob/main/matrix_multiplication_cuda.ipynb\" target=\"_parent\"><img src=\"https://colab.research.google.com/assets/colab-badge.svg\" alt=\"Open In Colab\"/></a>"
      ]
    },
    {
      "cell_type": "code",
      "source": [
        "!nvcc --version"
      ],
      "metadata": {
        "id": "r9snKHM4OGwr",
        "outputId": "ece3df01-0820-4c29-8c56-adbdde5cdb81",
        "colab": {
          "base_uri": "https://localhost:8080/"
        }
      },
      "execution_count": 2,
      "outputs": [
        {
          "output_type": "stream",
          "name": "stdout",
          "text": [
            "nvcc: NVIDIA (R) Cuda compiler driver\n",
            "Copyright (c) 2005-2023 NVIDIA Corporation\n",
            "Built on Tue_Aug_15_22:02:13_PDT_2023\n",
            "Cuda compilation tools, release 12.2, V12.2.140\n",
            "Build cuda_12.2.r12.2/compiler.33191640_0\n"
          ]
        }
      ]
    },
    {
      "cell_type": "code",
      "source": [
        "!pip install nvcc4jupyter"
      ],
      "metadata": {
        "id": "WTl8RbvhOLyT",
        "outputId": "31bf5452-3337-4d3a-cd87-a180145f9416",
        "colab": {
          "base_uri": "https://localhost:8080/"
        }
      },
      "execution_count": 3,
      "outputs": [
        {
          "output_type": "stream",
          "name": "stdout",
          "text": [
            "Collecting nvcc4jupyter\n",
            "  Downloading nvcc4jupyter-1.2.1-py3-none-any.whl.metadata (5.1 kB)\n",
            "Downloading nvcc4jupyter-1.2.1-py3-none-any.whl (10 kB)\n",
            "Installing collected packages: nvcc4jupyter\n",
            "Successfully installed nvcc4jupyter-1.2.1\n"
          ]
        }
      ]
    },
    {
      "cell_type": "code",
      "execution_count": 4,
      "metadata": {
        "colab": {
          "base_uri": "https://localhost:8080/"
        },
        "id": "vAFoTHG_n8tG",
        "outputId": "5e11bbf6-2ba0-44c0-aca7-c5d3c3a5e16e"
      },
      "outputs": [
        {
          "output_type": "stream",
          "name": "stdout",
          "text": [
            "Detected platform \"Colab\". Running its setup...\n",
            "Source files will be saved in \"/tmp/tmp_eb9s7n3\".\n"
          ]
        }
      ],
      "source": [
        "%load_ext nvcc4jupyter"
      ]
    },
    {
      "cell_type": "code",
      "source": [
        "%%cuda\n",
        "#include <cstdio>\n",
        "#include <iostream>\n",
        "// CUDA kernel to perform matrix multiplication\n",
        "__global__ void matrixMultiplyKernel(float* A, float* B, float* C, int m, int n, int p) {\n",
        "    int row = blockIdx.y * blockDim.y + threadIdx.y;\n",
        "    int col = blockIdx.x * blockDim.x + threadIdx.x;\n",
        "\n",
        "    if (row < m && col < p) {\n",
        "        float value = 0;\n",
        "        for (int k = 0; k < n; ++k) {\n",
        "            value += A[row * n + k] * B[k * p + col];\n",
        "        }\n",
        "        C[row * p + col] = value;\n",
        "    }\n",
        "}\n",
        "\n",
        "// Host code to manage memory and kernel invocation\n",
        "void matrixMultiply(float* A, float* B, float* C, int m, int n, int p) {\n",
        "    // Size of matrices in bytes\n",
        "    size_t size_A = m * n * sizeof(float);\n",
        "    size_t size_B = n * p * sizeof(float);\n",
        "    size_t size_C = m * p * sizeof(float);\n",
        "\n",
        "    // Allocate memory on the device (GPU)\n",
        "    float *d_A, *d_B, *d_C;\n",
        "    cudaMalloc(&d_A, size_A);\n",
        "    cudaMalloc(&d_B, size_B);\n",
        "    cudaMalloc(&d_C, size_C);\n",
        "\n",
        "    // Copy matrices A and B from host (CPU) to device (GPU)\n",
        "    cudaMemcpy(d_A, A, size_A, cudaMemcpyHostToDevice);\n",
        "    cudaMemcpy(d_B, B, size_B, cudaMemcpyHostToDevice);\n",
        "\n",
        "    // Define block and grid sizes\n",
        "    int blockSize = 16;\n",
        "    dim3 block(blockSize, blockSize);\n",
        "    dim3 grid((p + blockSize - 1) / blockSize, (m + blockSize - 1) / blockSize);\n",
        "\n",
        "    // Create CUDA events to measure time\n",
        "    cudaEvent_t start, stop;\n",
        "    cudaEventCreate(&start);\n",
        "    cudaEventCreate(&stop);\n",
        "\n",
        "    // Record the start event\n",
        "    cudaEventRecord(start, 0);\n",
        "\n",
        "    // Launch the CUDA kernel\n",
        "    matrixMultiplyKernel<<<grid, block>>>(d_A, d_B, d_C, m, n, p);\n",
        "\n",
        "    // Record the stop event\n",
        "    cudaEventRecord(stop, 0);\n",
        "\n",
        "    // Wait for the event to complete\n",
        "    cudaEventSynchronize(stop);\n",
        "\n",
        "    // Calculate elapsed time in milliseconds\n",
        "    float milliseconds = 0;\n",
        "    cudaEventElapsedTime(&milliseconds, start, stop);\n",
        "\n",
        "    // Copy the result matrix C from device (GPU) to host (CPU)\n",
        "    cudaMemcpy(C, d_C, size_C, cudaMemcpyDeviceToHost);\n",
        "\n",
        "    // Free device memory\n",
        "    cudaFree(d_A);\n",
        "    cudaFree(d_B);\n",
        "    cudaFree(d_C);\n",
        "\n",
        "    // Destroy events\n",
        "    cudaEventDestroy(start);\n",
        "    cudaEventDestroy(stop);\n",
        "\n",
        "    // Output the elapsed time\n",
        "    std::cout << \"Time elapsed: \" << milliseconds << \" ms\" << std::endl;\n",
        "}\n",
        "\n",
        "int main() {\n",
        "    int m = 500;  // Rows in A and C\n",
        "    int n = 300;  // Columns in A and rows in B\n",
        "    int p = 200;  // Columns in B and C\n",
        "\n",
        "    // Allocate memory for matrices on the host (CPU)\n",
        "    float* A = new float[m * n];\n",
        "    float* B = new float[n * p];\n",
        "    float* C = new float[m * p];\n",
        "\n",
        "    // Initialize matrices A and B with random values\n",
        "    for (int i = 0; i < m * n; i++) A[i] = static_cast<float>(rand()) / RAND_MAX;\n",
        "    for (int i = 0; i < n * p; i++) B[i] = static_cast<float>(rand()) / RAND_MAX;\n",
        "\n",
        "    // Perform matrix multiplication on GPU\n",
        "    matrixMultiply(A, B, C, m, n, p);\n",
        "\n",
        "    // Clean up\n",
        "    delete[] A;\n",
        "    delete[] B;\n",
        "    delete[] C;\n",
        "\n",
        "    return 0;\n",
        "}"
      ],
      "metadata": {
        "colab": {
          "base_uri": "https://localhost:8080/"
        },
        "id": "hIOjvQ-BpDCC",
        "outputId": "a33b17c6-691a-4dfe-ddfd-9e94b58ccd50"
      },
      "execution_count": 6,
      "outputs": [
        {
          "output_type": "stream",
          "name": "stdout",
          "text": [
            "Time elapsed: 0.507904 ms\n",
            "\n"
          ]
        }
      ]
    }
  ]
}