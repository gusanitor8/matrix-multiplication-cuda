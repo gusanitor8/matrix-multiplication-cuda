{
  "nbformat": 4,
  "nbformat_minor": 0,
  "metadata": {
    "colab": {
      "provenance": [],
      "gpuType": "T4",
      "authorship_tag": "ABX9TyOrhM1bz59C12/yKpJpRSNW",
      "include_colab_link": true
    },
    "kernelspec": {
      "name": "python3",
      "display_name": "Python 3"
    },
    "language_info": {
      "name": "python"
    },
    "accelerator": "GPU"
  },
  "cells": [
    {
      "cell_type": "markdown",
      "metadata": {
        "id": "view-in-github",
        "colab_type": "text"
      },
      "source": [
        "<a href=\"https://colab.research.google.com/github/gusanitor8/matrix-multiplication-cuda/blob/main/matrix_multiplication_cuda.ipynb\" target=\"_parent\"><img src=\"https://colab.research.google.com/assets/colab-badge.svg\" alt=\"Open In Colab\"/></a>"
      ]
    },
    {
      "cell_type": "code",
      "execution_count": null,
      "metadata": {
        "colab": {
          "base_uri": "https://localhost:8080/"
        },
        "id": "vAFoTHG_n8tG",
        "outputId": "550b4bbd-7c1c-4e8a-ea92-de10c0b9ae1a"
      },
      "outputs": [
        {
          "output_type": "stream",
          "name": "stdout",
          "text": [
            "Detected platform \"Colab\". Running its setup...\n",
            "Source files will be saved in \"/tmp/tmpnc6tv_ty\".\n"
          ]
        }
      ],
      "source": [
        "%load_ext nvcc4jupyter"
      ]
    },
    {
      "cell_type": "code",
      "source": [
        "%%cuda\n",
        "#include <cstdio>\n",
        "#include <iostream>\n",
        "// CUDA kernel to perform matrix multiplication\n",
        "__global__ void matrixMultiplyKernel(float* A, float* B, float* C, int m, int n, int p) {\n",
        "    int row = blockIdx.y * blockDim.y + threadIdx.y;\n",
        "    int col = blockIdx.x * blockDim.x + threadIdx.x;\n",
        "\n",
        "    if (row < m && col < p) {\n",
        "        float value = 0;\n",
        "        for (int k = 0; k < n; ++k) {\n",
        "            value += A[row * n + k] * B[k * p + col];\n",
        "        }\n",
        "        C[row * p + col] = value;\n",
        "    }\n",
        "}\n",
        "\n",
        "// Host code to manage memory and kernel invocation\n",
        "void matrixMultiply(float* A, float* B, float* C, int m, int n, int p) {\n",
        "    // Size of matrices in bytes\n",
        "    size_t size_A = m * n * sizeof(float);\n",
        "    size_t size_B = n * p * sizeof(float);\n",
        "    size_t size_C = m * p * sizeof(float);\n",
        "\n",
        "    // Allocate memory on the device (GPU)\n",
        "    float *d_A, *d_B, *d_C;\n",
        "    cudaMalloc(&d_A, size_A);\n",
        "    cudaMalloc(&d_B, size_B);\n",
        "    cudaMalloc(&d_C, size_C);\n",
        "\n",
        "    // Copy matrices A and B from host (CPU) to device (GPU)\n",
        "    cudaMemcpy(d_A, A, size_A, cudaMemcpyHostToDevice);\n",
        "    cudaMemcpy(d_B, B, size_B, cudaMemcpyHostToDevice);\n",
        "\n",
        "    // Define block and grid sizes\n",
        "    int blockSize = 16;\n",
        "    dim3 block(blockSize, blockSize);\n",
        "    dim3 grid((p + blockSize - 1) / blockSize, (m + blockSize - 1) / blockSize);\n",
        "\n",
        "    // Create CUDA events to measure time\n",
        "    cudaEvent_t start, stop;\n",
        "    cudaEventCreate(&start);\n",
        "    cudaEventCreate(&stop);\n",
        "\n",
        "    // Record the start event\n",
        "    cudaEventRecord(start, 0);\n",
        "\n",
        "    // Launch the CUDA kernel\n",
        "    matrixMultiplyKernel<<<grid, block>>>(d_A, d_B, d_C, m, n, p);\n",
        "\n",
        "    // Record the stop event\n",
        "    cudaEventRecord(stop, 0);\n",
        "\n",
        "    // Wait for the event to complete\n",
        "    cudaEventSynchronize(stop);\n",
        "\n",
        "    // Calculate elapsed time in milliseconds\n",
        "    float milliseconds = 0;\n",
        "    cudaEventElapsedTime(&milliseconds, start, stop);\n",
        "\n",
        "    // Copy the result matrix C from device (GPU) to host (CPU)\n",
        "    cudaMemcpy(C, d_C, size_C, cudaMemcpyDeviceToHost);\n",
        "\n",
        "    // Free device memory\n",
        "    cudaFree(d_A);\n",
        "    cudaFree(d_B);\n",
        "    cudaFree(d_C);\n",
        "\n",
        "    // Destroy events\n",
        "    cudaEventDestroy(start);\n",
        "    cudaEventDestroy(stop);\n",
        "\n",
        "    // Output the elapsed time\n",
        "    std::cout << \"Time elapsed: \" << milliseconds << \" ms\" << std::endl;\n",
        "}\n",
        "\n",
        "int main() {\n",
        "    int m = 500;  // Rows in A and C\n",
        "    int n = 300;  // Columns in A and rows in B\n",
        "    int p = 200;  // Columns in B and C\n",
        "\n",
        "    // Allocate memory for matrices on the host (CPU)\n",
        "    float* A = new float[m * n];\n",
        "    float* B = new float[n * p];\n",
        "    float* C = new float[m * p];\n",
        "\n",
        "    // Initialize matrices A and B with random values\n",
        "    for (int i = 0; i < m * n; i++) A[i] = static_cast<float>(rand()) / RAND_MAX;\n",
        "    for (int i = 0; i < n * p; i++) B[i] = static_cast<float>(rand()) / RAND_MAX;\n",
        "\n",
        "    // Perform matrix multiplication on GPU\n",
        "    matrixMultiply(A, B, C, m, n, p);\n",
        "\n",
        "    // Clean up\n",
        "    delete[] A;\n",
        "    delete[] B;\n",
        "    delete[] C;\n",
        "\n",
        "    return 0;\n",
        "}"
      ],
      "metadata": {
        "colab": {
          "base_uri": "https://localhost:8080/"
        },
        "id": "hIOjvQ-BpDCC",
        "outputId": "33a24b98-d602-4021-ba16-cc4e8aa2662a"
      },
      "execution_count": null,
      "outputs": [
        {
          "output_type": "stream",
          "name": "stdout",
          "text": [
            "Time elapsed: 0.468512 ms\n",
            "\n"
          ]
        }
      ]
    }
  ]
}